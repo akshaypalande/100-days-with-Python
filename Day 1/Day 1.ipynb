{
 "cells": [
  {
   "cell_type": "markdown",
   "metadata": {},
   "source": [
    "## Password Generator"
   ]
  },
  {
   "cell_type": "code",
   "execution_count": null,
   "metadata": {},
   "outputs": [],
   "source": []
  },
  {
   "cell_type": "code",
   "execution_count": 7,
   "metadata": {},
   "outputs": [
    {
     "name": "stdout",
     "output_type": "stream",
     "text": [
      "******************************************\n",
      "******************************************\n",
      "Welcome to the Password Generator.\n",
      "******************************************\n",
      "******************************************\n",
      " \n",
      "What's your nick name?\n",
      "> sunny\n",
      "What's your birth year ?\n",
      "> 1994\n",
      " \n",
      "Your password could be sunny@1994.\n",
      " \n",
      "******************************************\n",
      "Thankyou\n",
      "******************************************\n"
     ]
    }
   ],
   "source": [
    "# Password Generator\n",
    "print(\"******************************************\")\n",
    "print(\"******************************************\")\n",
    "print(\"Welcome to the Password Generator.\")\n",
    "print(\"******************************************\")\n",
    "print(\"******************************************\")\n",
    "\n",
    "print(\" \")\n",
    "\n",
    "\n",
    "# initialize the variables as empty strings\n",
    "Name = \"\"\n",
    "date = \"\"\n",
    "\n",
    "# simple check to make sure the user has entered something\n",
    "while True:\n",
    "    print(\"What's your nick name?\")\n",
    "    Name = input(\"> \")\n",
    "    # if there's no input, ask again\n",
    "    if Name == \"\":\n",
    "        print(\"You haven't entered anything. Please try again.\")\n",
    "    # if there's any input at all, break out of the loop\n",
    "    else:\n",
    "        break\n",
    "\n",
    "# do the same for the date\n",
    "while True:\n",
    "    print(\"What's your birth year ?\")\n",
    "    year = input(\"> \")\n",
    "    if year == \"\":\n",
    "        print(\"You haven't entered anything. Please try again.\")\n",
    "    else:\n",
    "        break\n",
    "\n",
    "# output using f-strings makes the code much more readable\n",
    "print(\" \")\n",
    "\n",
    "print(f\"Your password could be {Name}@{year}.\")\n",
    "\n",
    "print(\" \")\n",
    "\n",
    "\n",
    "print(\"******************************************\")\n",
    "print(\"Thankyou\")\n",
    "print(\"******************************************\")"
   ]
  }
 ],
 "metadata": {
  "kernelspec": {
   "display_name": "Python 3",
   "language": "python",
   "name": "python3"
  },
  "language_info": {
   "codemirror_mode": {
    "name": "ipython",
    "version": 3
   },
   "file_extension": ".py",
   "mimetype": "text/x-python",
   "name": "python",
   "nbconvert_exporter": "python",
   "pygments_lexer": "ipython3",
   "version": "3.7.3"
  }
 },
 "nbformat": 4,
 "nbformat_minor": 2
}
